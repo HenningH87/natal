{
 "cells": [
  {
   "cell_type": "code",
   "execution_count": 2,
   "metadata": {},
   "outputs": [],
   "source": [
    "from dominate.svg import rect, circle, polygon, path, svg, text, g, line, svg, svg_tag\n",
    "from IPython.display import HTML\n",
    "from math import cos, sin, radians, pi"
   ]
  },
  {
   "cell_type": "code",
   "execution_count": 3,
   "metadata": {},
   "outputs": [],
   "source": [
    "from math import radians, cos, sin\n",
    "\n",
    "\n",
    "def sector(\n",
    "    cx: int,\n",
    "    cy: int,\n",
    "    r: int,\n",
    "    start_deg: float,\n",
    "    end_deg: float,\n",
    "    fill: str = \"white\",\n",
    "    stroke: str = \"black\",\n",
    "    stroke_width: float = 1,\n",
    ") -> svg_tag:\n",
    "    \"\"\"\n",
    "    Creates a sector shape in SVG format.\n",
    "\n",
    "    Args:\n",
    "        cx (int): The x-coordinate of the center of the sector.\n",
    "        cy (int): The y-coordinate of the center of the sector.\n",
    "        r (int): The radius of the sector.\n",
    "        start_deg (float): The starting angle of the sector in degrees.\n",
    "        end_deg (float): The ending angle of the sector in degrees.\n",
    "        fill (str, optional): The fill color of the sector. Defaults to \"white\".\n",
    "        stroke (str, optional): The stroke color of the sector. Defaults to \"black\".\n",
    "        stroke_width (float, optional): The stroke width of the sector. Defaults to 1.\n",
    "\n",
    "    Returns:\n",
    "        svg_tag: The SVG tag representing the sector shape.\n",
    "    \n",
    "    Example:\n",
    "        >>> sector(100, 100, 50, 0, 90)\n",
    "        '<path d=\"M100 100 L50.0 100.0 A50 50 0 0 0 100.0 150.0 Z\" fill=\"white\" stroke=\"black\" stroke-width=\"1\"></path>'\n",
    "    \"\"\"\n",
    "    start_rad = radians(start_deg)\n",
    "    end_rad = radians(end_deg)\n",
    "    start_x = cx - r * cos(start_rad)  # Changed to minus\n",
    "    start_y = cy + r * sin(start_rad)  # Kept as plus\n",
    "    end_x = cx - r * cos(end_rad)  # Changed to minus\n",
    "    end_y = cy + r * sin(end_rad)  # Kept as plus\n",
    "    start_x, start_y, end_x, end_y = [\n",
    "        round(val, 2) for val in (start_x, start_y, end_x, end_y)\n",
    "    ]\n",
    "    path_data = \" \".join(\n",
    "        (\n",
    "            \"M{} {}\".format(cx, cy),\n",
    "            \"L{} {}\".format(start_x, start_y),\n",
    "            \"A{} {} 0 0 0 {} {}\".format(r, r, end_x, end_y),  # Changed flag from 0 to 1\n",
    "            \"Z\",\n",
    "        )\n",
    "    )\n",
    "    # print(path_data)\n",
    "    return path(d=path_data, fill=fill, stroke=stroke, stroke_width=stroke_width)"
   ]
  },
  {
   "cell_type": "code",
   "execution_count": 4,
   "metadata": {},
   "outputs": [
    {
     "data": {
      "text/html": [
       "<svg height=\"640\" versio=\"1.1\" width=\"640\" xmlns=\"http://www.w3.org/2000/svg\">\n",
       "  <path d=\"M320 320 L120.0 320.0 A200 200 0 0 0 146.79 420.0 Z\" fill=\"red\" stroke=\"black\" stroke-width=\"5\"></path>\n",
       "  <path d=\"M320 320 L146.79 420.0 A200 200 0 0 0 220.0 493.21 Z\" fill=\"white\" stroke=\"black\" stroke-width=\"5\"></path>\n",
       "  <path d=\"M320 320 L220.0 493.21 A200 200 0 0 0 320.0 520.0 Z\" fill=\"red\" stroke=\"black\" stroke-width=\"5\"></path>\n",
       "  <path d=\"M320 320 L320.0 520.0 A200 200 0 0 0 420.0 493.21 Z\" fill=\"white\" stroke=\"black\" stroke-width=\"5\"></path>\n",
       "  <path d=\"M320 320 L420.0 493.21 A200 200 0 0 0 493.21 420.0 Z\" fill=\"red\" stroke=\"black\" stroke-width=\"5\"></path>\n",
       "  <path d=\"M320 320 L493.21 420.0 A200 200 0 0 0 520.0 320.0 Z\" fill=\"white\" stroke=\"black\" stroke-width=\"5\"></path>\n",
       "  <path d=\"M320 320 L520.0 320.0 A200 200 0 0 0 493.21 220.0 Z\" fill=\"red\" stroke=\"black\" stroke-width=\"5\"></path>\n",
       "  <path d=\"M320 320 L493.21 220.0 A200 200 0 0 0 420.0 146.79 Z\" fill=\"white\" stroke=\"black\" stroke-width=\"5\"></path>\n",
       "  <path d=\"M320 320 L420.0 146.79 A200 200 0 0 0 320.0 120.0 Z\" fill=\"red\" stroke=\"black\" stroke-width=\"5\"></path>\n",
       "  <path d=\"M320 320 L320.0 120.0 A200 200 0 0 0 220.0 146.79 Z\" fill=\"white\" stroke=\"black\" stroke-width=\"5\"></path>\n",
       "  <path d=\"M320 320 L220.0 146.79 A200 200 0 0 0 146.79 220.0 Z\" fill=\"red\" stroke=\"black\" stroke-width=\"5\"></path>\n",
       "  <path d=\"M320 320 L146.79 220.0 A200 200 0 0 0 120.0 320.0 Z\" fill=\"white\" stroke=\"black\" stroke-width=\"5\"></path>\n",
       "</svg>"
      ],
      "text/plain": [
       "<IPython.core.display.HTML object>"
      ]
     },
     "execution_count": 4,
     "metadata": {},
     "output_type": "execute_result"
    }
   ],
   "source": [
    "with svg(\n",
    "    width=\"640\", height=\"640\", xmlns=\"http://www.w3.org/2000/svg\", versio=\"1.1\"\n",
    ") as canvas:\n",
    "    for i in range(12):\n",
    "        sector(\n",
    "            cx=320,\n",
    "            cy=320,\n",
    "            r=200,\n",
    "            start_deg=i * 30,\n",
    "            end_deg=(i + 1) * 30,\n",
    "            fill=\"red\" if i % 2 == 0 else \"white\",\n",
    "            stroke=\"black\",\n",
    "            stroke_width=5,\n",
    "        )\n",
    "\n",
    "\n",
    "HTML(canvas.render())"
   ]
  },
  {
   "cell_type": "code",
   "execution_count": 6,
   "metadata": {},
   "outputs": [
    {
     "data": {
      "text/plain": [
       "'<path d=\"M100 100 L50.0 100.0 A50 50 0 0 0 100.0 150.0 Z\" fill=\"white\" stroke=\"black\" stroke-width=\"1\"></path>'"
      ]
     },
     "execution_count": 6,
     "metadata": {},
     "output_type": "execute_result"
    }
   ],
   "source": [
    "sector(100, 100, 50, 0, 90).render()"
   ]
  },
  {
   "cell_type": "code",
   "execution_count": null,
   "metadata": {},
   "outputs": [],
   "source": [
    "def sector(cx, cy, r, start_deg, end_deg, fill, stroke, stroke_width):\n",
    "    start_rad = radians(start_deg)\n",
    "    end_rad = radians(end_deg)\n",
    "    start_x = cx + r * cos(start_rad)\n",
    "    start_y = cy + r * sin(start_rad)\n",
    "    end_x = cx + r * cos(end_rad)\n",
    "    end_y = cy + r * sin(end_rad)\n",
    "    path_data = \" \".join(\n",
    "        (\n",
    "            \"M{} {}\".format(cx, cy),\n",
    "            \"L{} {}\".format(start_x, start_y),\n",
    "            \"A{} {} 0 0 1 {} {}\".format(r, r, end_x, end_y),\n",
    "            \"Z\",\n",
    "        )\n",
    "    )\n",
    "    print(path_data)\n",
    "    return path(d=path_data, fill=fill, stroke=stroke, stroke_width=stroke_width)"
   ]
  }
 ],
 "metadata": {
  "kernelspec": {
   "display_name": ".venv",
   "language": "python",
   "name": "python3"
  },
  "language_info": {
   "codemirror_mode": {
    "name": "ipython",
    "version": 3
   },
   "file_extension": ".py",
   "mimetype": "text/x-python",
   "name": "python",
   "nbconvert_exporter": "python",
   "pygments_lexer": "ipython3",
   "version": "3.12.4"
  }
 },
 "nbformat": 4,
 "nbformat_minor": 2
}
